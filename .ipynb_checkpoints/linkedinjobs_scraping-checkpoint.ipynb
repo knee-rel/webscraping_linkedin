{
 "cells": [
  {
   "cell_type": "code",
   "execution_count": 19,
   "id": "40d324de",
   "metadata": {},
   "outputs": [
    {
     "name": "stdout",
     "output_type": "stream",
     "text": [
      "41,000+\n"
     ]
    },
    {
     "data": {
      "text/plain": [
       "41000"
      ]
     },
     "execution_count": 19,
     "metadata": {},
     "output_type": "execute_result"
    }
   ],
   "source": [
    "#Import Packages\n",
    "from selenium import webdriver\n",
    "import time\n",
    "import pandas as pd\n",
    "import os\n",
    "from selenium.webdriver.support.select import Select\n",
    "from selenium.webdriver.support.ui import WebDriverWait\n",
    "from selenium.webdriver.common.by import By\n",
    "from selenium.webdriver.support import expected_conditions as EC\n",
    "\n",
    "url1 = 'https://www.linkedin.com/jobs/jobs-in-philippines?position=1&pageNum=0'\n",
    "\n",
    "#Load the web driver and get the url\n",
    "\n",
    "driver = webdriver.Chrome()\n",
    "driver.implicitly_wait(10)\n",
    "driver.get(url1)\n",
    "\n",
    "#Find number of job listings\n",
    "\n",
    "#Find number of job listings\n",
    "\n",
    "#y=driver.find_elements_by_class_name('results-context-header__job-count')[0].text\n",
    "y = driver.find_elements(By.CLASS_NAME, 'results-context-header__job-count')[0].text\n",
    "\n",
    "print(y)\n",
    "\n",
    "if y.endswith('+') and \",\" in y:\n",
    "    cleaned_y = y[:-1].replace(\",\", \"\")\n",
    "    \n",
    "else:\n",
    "    cleaned_y = y\n",
    "\n",
    "n = pd.to_numeric(cleaned_y)\n",
    "\n",
    "n "
   ]
  },
  {
   "cell_type": "markdown",
   "id": "85a53a22",
   "metadata": {},
   "source": [
    "## Phase Two"
   ]
  },
  {
   "cell_type": "code",
   "execution_count": 27,
   "id": "634a3f38",
   "metadata": {},
   "outputs": [
    {
     "name": "stdout",
     "output_type": "stream",
     "text": [
      "307\n",
      "no\n"
     ]
    }
   ],
   "source": [
    "#Import Packages\n",
    "from selenium import webdriver\n",
    "import time\n",
    "import pandas as pd\n",
    "import os\n",
    "from selenium.webdriver.support.select import Select\n",
    "from selenium.webdriver.support.ui import WebDriverWait\n",
    "from selenium.webdriver.common.by import By\n",
    "from selenium.webdriver.support import expected_conditions as EC\n",
    "\n",
    "#This one is for the whole Philippines\n",
    "#url1 = 'https://www.linkedin.com/jobs/jobs-in-philippines?position=1&pageNum=0'\n",
    "\n",
    "#This one is for python jobs in the philippines\n",
    "url1 = 'https://ph.linkedin.com/jobs/python-programmer-jobs-makati?position=1&pageNum=0'\n",
    "\n",
    "#Load the web driver and get the url\n",
    "\n",
    "driver = webdriver.Chrome()\n",
    "driver.implicitly_wait(10)\n",
    "driver.get(url1)\n",
    "\n",
    "#Find number of job listings\n",
    "\n",
    "#Find number of job listings\n",
    "\n",
    "#y=driver.find_elements_by_class_name('results-context-header__job-count')[0].text\n",
    "y = driver.find_elements(By.CLASS_NAME, 'results-context-header__job-count')[0].text\n",
    "\n",
    "print(y)\n",
    "\n",
    "if y.endswith('+') and \",\" in y:\n",
    "    cleaned_y = y[:-1].replace(\",\", \"\")\n",
    "    \n",
    "else:\n",
    "    cleaned_y = y\n",
    "\n",
    "n = pd.to_numeric(cleaned_y)\n",
    "\n",
    "n \n",
    "\n",
    "#Loop to scroll through all jobs and click on see more jobs button for infinite scrolling\n",
    "\n",
    "i = 2\n",
    "while i <= int((n+200)/25)+1: \n",
    "    driver.execute_script(\"window.scrollTo(0, document.body.scrollHeight);\")\n",
    "    i = i + 1\n",
    "    \n",
    "    try:\n",
    "        send=driver.find_element_by_xpath(\"//button[@aria-label='Load more results']\")\n",
    "        driver.execute_script(\"arguments[0].click();\", send)   \n",
    "        time.sleep(3)\n",
    "            \n",
    "    except:\n",
    "        pass\n",
    "        time.sleep(5)\n",
    "        \n",
    "#Create empty lists for company name and job title\n",
    "\n",
    "companyname= []\n",
    "titlename= []\n",
    "\n",
    "#Find company name and append it to the blank list\n",
    "\n",
    "try:\n",
    "    for i in range(n):\n",
    "        company=driver.find_elements(By.CLASS_NAME, 'base-search-card__subtitle')[i].text\n",
    "        companyname.append(company)\n",
    "    \n",
    "except IndexError:\n",
    "    print(\"no\")\n",
    "    \n",
    "    "
   ]
  },
  {
   "cell_type": "code",
   "execution_count": 25,
   "id": "b6d24f1b",
   "metadata": {},
   "outputs": [
    {
     "data": {
      "text/plain": [
       "0"
      ]
     },
     "execution_count": 25,
     "metadata": {},
     "output_type": "execute_result"
    }
   ],
   "source": [
    "len(companyname)"
   ]
  },
  {
   "cell_type": "code",
   "execution_count": null,
   "id": "e9a5547d",
   "metadata": {},
   "outputs": [],
   "source": []
  }
 ],
 "metadata": {
  "kernelspec": {
   "display_name": "Python 3 (ipykernel)",
   "language": "python",
   "name": "python3"
  },
  "language_info": {
   "codemirror_mode": {
    "name": "ipython",
    "version": 3
   },
   "file_extension": ".py",
   "mimetype": "text/x-python",
   "name": "python",
   "nbconvert_exporter": "python",
   "pygments_lexer": "ipython3",
   "version": "3.9.13"
  }
 },
 "nbformat": 4,
 "nbformat_minor": 5
}
